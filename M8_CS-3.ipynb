{
 "cells": [
  {
   "cell_type": "code",
   "execution_count": 2,
   "id": "44baf8ed-3450-4361-9a4a-d7a7f6bbc73f",
   "metadata": {},
   "outputs": [],
   "source": [
    "import pandas as pd\n",
    "import numpy as np\n",
    "import matplotlib.pyplot as plt\n",
    "import seaborn as sns\n",
    "from sklearn.model_selection import train_test_split\n",
    "from sklearn.preprocessing import StandardScaler, LabelEncoder\n",
    "from sklearn.decomposition import PCA\n",
    "from sklearn.linear_model import LogisticRegression\n",
    "from sklearn.metrics import accuracy_score, confusion_matrix, classification_report"
   ]
  },
  {
   "cell_type": "code",
   "execution_count": 4,
   "id": "4a1c6048-7d14-488d-92ab-beb9c5f8cb2d",
   "metadata": {},
   "outputs": [
    {
     "name": "stdout",
     "output_type": "stream",
     "text": [
      "Columns: ['id', 'diagnosis', 'radius_mean', 'texture_mean', 'perimeter_mean', 'area_mean', 'smoothness_mean', 'compactness_mean', 'concavity_mean', 'concave points_mean', 'symmetry_mean', 'fractal_dimension_mean', 'radius_se', 'texture_se', 'perimeter_se', 'area_se', 'smoothness_se', 'compactness_se', 'concavity_se', 'concave points_se', 'symmetry_se', 'fractal_dimension_se', 'radius_worst', 'texture_worst', 'perimeter_worst', 'area_worst', 'smoothness_worst', 'compactness_worst', 'concavity_worst', 'concave points_worst', 'symmetry_worst', 'fractal_dimension_worst']\n",
      "Missing values:\n",
      " id                         0\n",
      "diagnosis                  0\n",
      "radius_mean                0\n",
      "texture_mean               0\n",
      "perimeter_mean             0\n",
      "area_mean                  0\n",
      "smoothness_mean            0\n",
      "compactness_mean           0\n",
      "concavity_mean             0\n",
      "concave points_mean        0\n",
      "symmetry_mean              0\n",
      "fractal_dimension_mean     0\n",
      "radius_se                  0\n",
      "texture_se                 0\n",
      "perimeter_se               0\n",
      "area_se                    0\n",
      "smoothness_se              0\n",
      "compactness_se             0\n",
      "concavity_se               0\n",
      "concave points_se          0\n",
      "symmetry_se                0\n",
      "fractal_dimension_se       0\n",
      "radius_worst               0\n",
      "texture_worst              0\n",
      "perimeter_worst            0\n",
      "area_worst                 0\n",
      "smoothness_worst           0\n",
      "compactness_worst          0\n",
      "concavity_worst            0\n",
      "concave points_worst       0\n",
      "symmetry_worst             0\n",
      "fractal_dimension_worst    0\n",
      "dtype: int64\n"
     ]
    }
   ],
   "source": [
    "# 1. Load the dataset\n",
    "df = pd.read_csv('breast-cancer-data.csv')\n",
    "\n",
    "print(\"Columns:\", df.columns.tolist())\n",
    "print(\"Missing values:\\n\", df.isnull().sum())\n",
    "\n",
    "df = df.loc[:, ~df.columns.str.contains('^id|^Unnamed', case=False)]"
   ]
  },
  {
   "cell_type": "code",
   "execution_count": 6,
   "id": "0b645c58-d81b-4e3f-b0a3-a7fb033d6095",
   "metadata": {},
   "outputs": [],
   "source": [
    "# 2. Encode target variable (usually 'diagnosis' column: B=Benign, M=Malignant)\n",
    "label_col = 'diagnosis'\n",
    "df[label_col] = LabelEncoder().fit_transform(df[label_col])  # B=0, M=1"
   ]
  },
  {
   "cell_type": "code",
   "execution_count": 8,
   "id": "ad61f69f-01f8-4336-a4cc-c2006dfda628",
   "metadata": {},
   "outputs": [],
   "source": [
    "# 3. Split into features and target\n",
    "X = df.drop(label_col, axis=1)\n",
    "y = df[label_col]\n",
    "\n",
    "scaler = StandardScaler()\n",
    "X_scaled = scaler.fit_transform(X)\n",
    "\n",
    "X_train, X_test, y_train, y_test = train_test_split(X_scaled, y, test_size=0.2, random_state=42)"
   ]
  },
  {
   "cell_type": "code",
   "execution_count": 10,
   "id": "9b69021d-3693-40e6-8023-217a68d27547",
   "metadata": {},
   "outputs": [
    {
     "name": "stdout",
     "output_type": "stream",
     "text": [
      "Accuracy before PCA: 0.9736842105263158\n"
     ]
    }
   ],
   "source": [
    "# 4. Logistic Regression before PCA\n",
    "model_before = LogisticRegression(max_iter=1000)\n",
    "model_before.fit(X_train, y_train)\n",
    "pred_before = model_before.predict(X_test)\n",
    "print(\"Accuracy before PCA:\", accuracy_score(y_test, pred_before))"
   ]
  },
  {
   "cell_type": "code",
   "execution_count": 12,
   "id": "ffdc4a46-352a-4c0c-8d8f-714f6fb0c22e",
   "metadata": {},
   "outputs": [
    {
     "name": "stdout",
     "output_type": "stream",
     "text": [
      "Number of PCA components to retain 95% variance: 10\n",
      "Accuracy after PCA: 0.9824561403508771\n"
     ]
    }
   ],
   "source": [
    "# 5. Apply PCA (retain 95% variance)\n",
    "pca = PCA(n_components=0.95)\n",
    "X_train_pca = pca.fit_transform(X_train)\n",
    "X_test_pca = pca.transform(X_test)\n",
    "print(f\"Number of PCA components to retain 95% variance: {pca.n_components_}\")\n",
    "\n",
    "model_after = LogisticRegression(max_iter=1000)\n",
    "model_after.fit(X_train_pca, y_train)\n",
    "pred_after = model_after.predict(X_test_pca)\n",
    "print(\"Accuracy after PCA:\", accuracy_score(y_test, pred_after))\n"
   ]
  },
  {
   "cell_type": "code",
   "execution_count": 16,
   "id": "1b154a27-2728-41e5-873c-03371fe004a0",
   "metadata": {},
   "outputs": [
    {
     "name": "stdout",
     "output_type": "stream",
     "text": [
      "Confusion Matrix (After PCA):\n",
      " [[70  1]\n",
      " [ 1 42]]\n",
      "\n",
      "Classification Report (After PCA):\n",
      "               precision    recall  f1-score   support\n",
      "\n",
      "           0       0.99      0.99      0.99        71\n",
      "           1       0.98      0.98      0.98        43\n",
      "\n",
      "    accuracy                           0.98       114\n",
      "   macro avg       0.98      0.98      0.98       114\n",
      "weighted avg       0.98      0.98      0.98       114\n",
      "\n"
     ]
    }
   ],
   "source": [
    "# 6.Confusion Matrix\n",
    "print(\"Confusion Matrix (After PCA):\\n\", confusion_matrix(y_test, pred_after))\n",
    "print(\"\\nClassification Report (After PCA):\\n\", classification_report(y_test, pred_after))"
   ]
  },
  {
   "cell_type": "code",
   "execution_count": 18,
   "id": "a429142b-0420-4b78-958e-16ba2e0c37cd",
   "metadata": {},
   "outputs": [
    {
     "data": {
      "image/png": "[encoded data removed]",
      "text/plain": [
       "<Figure size 800x500 with 1 Axes>"
      ]
     },
     "metadata": {},
     "output_type": "display_data"
    }
   ],
   "source": [
    "# 7.Scree plot\n",
    "plt.figure(figsize=(8, 5))\n",
    "plt.plot(np.cumsum(pca.explained_variance_ratio_), marker='o')\n",
    "plt.title('Explained Variance by PCA Components')\n",
    "plt.xlabel('Number of Components')\n",
    "plt.ylabel('Cumulative Explained Variance')\n",
    "plt.grid(True)\n",
    "plt.show()"
   ]
  },
  {
   "cell_type": "code",
   "execution_count": null,
   "id": "9ff99d35-9ab0-45c7-b235-1ce4c4f74f11",
   "metadata": {},
   "outputs": [],
   "source": []
  }
 ],
 "metadata": {
  "kernelspec": {
   "display_name": "Python 3 (ipykernel)",
   "language": "python",
   "name": "python3"
  },
  "language_info": {
   "codemirror_mode": {
    "name": "ipython",
    "version": 3
   },
   "file_extension": ".py",
   "mimetype": "text/x-python",
   "name": "python",
   "nbconvert_exporter": "python",
   "pygments_lexer": "ipython3",
   "version": "3.12.7"
  }
 },
 "nbformat": 4,
 "nbformat_minor": 5
}
