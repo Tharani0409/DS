{
 "cells": [
  {
   "cell_type": "code",
   "execution_count": 6,
   "id": "65ba62f9-9c68-44e3-83c3-02e1cdd39352",
   "metadata": {},
   "outputs": [
    {
     "name": "stdout",
     "output_type": "stream",
     "text": [
      "\n",
      "Eligible professions (case-insensitive): ['admin.', 'blue-collar', 'entrepreneur', 'housemaid', 'management', 'self-employed', 'services', 'student', 'technician']\n",
      "Eligible age range is from 19 to 80\n"
     ]
    },
    {
     "name": "stdin",
     "output_type": "stream",
     "text": [
      "\n",
      "Enter the profession to check eligibility (or type 'END' to exit):  student\n"
     ]
    },
    {
     "name": "stdout",
     "output_type": "stream",
     "text": [
      "✅ Client is eligible for the marketing campaign.\n"
     ]
    },
    {
     "name": "stdin",
     "output_type": "stream",
     "text": [
      "\n",
      "Enter the profession to check eligibility (or type 'END' to exit):  doctor\n"
     ]
    },
    {
     "name": "stdout",
     "output_type": "stream",
     "text": [
      "❌ Client is NOT eligible for the marketing campaign.\n"
     ]
    },
    {
     "name": "stdin",
     "output_type": "stream",
     "text": [
      "\n",
      "Enter the profession to check eligibility (or type 'END' to exit):  end\n"
     ]
    },
    {
     "name": "stdout",
     "output_type": "stream",
     "text": [
      "Program terminated.\n"
     ]
    }
   ],
   "source": [
    "import csv\n",
    "\n",
    "def read_bank_data(file_path):\n",
    "    professions = set()\n",
    "    ages = []\n",
    "\n",
    "    with open(file_path, mode='r') as file:\n",
    "        reader = csv.DictReader(file)\n",
    "        for row in reader:\n",
    "            profession = row['job'].strip().lower()\n",
    "            age = int(row['age'].strip())\n",
    "            professions.add(profession)\n",
    "            ages.append(age)\n",
    "\n",
    "    return professions, ages\n",
    "\n",
    "#Compute min and max age\n",
    "def compute_age_limits(ages):\n",
    "    return {'min_age': min(ages), 'max_age': max(ages)}\n",
    "\n",
    "# Step 3: Main logic\n",
    "def check_eligibility(professions, age_limits):\n",
    "    print(f\"\\nEligible professions (case-insensitive): {sorted(professions)}\")\n",
    "    print(f\"Eligible age range is from {age_limits['min_age']} to {age_limits['max_age']}\")\n",
    "\n",
    "    while True:\n",
    "        user_input = input(\"\\nEnter the profession to check eligibility (or type 'END' to exit): \").strip().lower()\n",
    "        if user_input == \"end\":\n",
    "            print(\"Program terminated.\")\n",
    "            break\n",
    "        elif user_input in professions:\n",
    "            print(\"✅ Client is eligible for the marketing campaign.\")\n",
    "        else:\n",
    "            print(\"❌ Client is NOT eligible for the marketing campaign.\")\n",
    "\n",
    "# Execute the program\n",
    "file_path = 'bank-data.csv'  \n",
    "professions, ages = read_bank_data(file_path)\n",
    "age_limits = compute_age_limits(ages)\n",
    "check_eligibility(professions, age_limits)\n"
   ]
  },
  {
   "cell_type": "code",
   "execution_count": null,
   "id": "134e6de3-85d4-4afe-87ed-8ffa9828e1f1",
   "metadata": {},
   "outputs": [],
   "source": []
  }
 ],
 "metadata": {
  "kernelspec": {
   "display_name": "Python 3 (ipykernel)",
   "language": "python",
   "name": "python3"
  },
  "language_info": {
   "codemirror_mode": {
    "name": "ipython",
    "version": 3
   },
   "file_extension": ".py",
   "mimetype": "text/x-python",
   "name": "python",
   "nbconvert_exporter": "python",
   "pygments_lexer": "ipython3",
   "version": "3.12.7"
  }
 },
 "nbformat": 4,
 "nbformat_minor": 5
}
