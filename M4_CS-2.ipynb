{
 "cells": [
  {
   "cell_type": "code",
   "execution_count": 4,
   "id": "a827204b-ed7e-42f0-9132-f02add620d39",
   "metadata": {},
   "outputs": [],
   "source": [
    "import pandas as pd\n",
    "\n",
    "math_df = pd.read_csv(\"MathScoreTerm1.csv\")\n",
    "ds_df = pd.read_csv(\"DSScoreTerm1.csv\")\n",
    "physics_df = pd.read_csv(\"PhysicsScoreTerm1.csv\")\n",
    "\n",
    "#Remove name and ethnicity columns\n",
    "columns_to_drop = ['Name', 'Ethnicity']\n",
    "math_df.drop(columns=columns_to_drop, inplace=True, errors='ignore')\n",
    "ds_df.drop(columns=columns_to_drop, inplace=True, errors='ignore')\n",
    "physics_df.drop(columns=columns_to_drop, inplace=True, errors='ignore')\n",
    "\n",
    "#Fill missing score data with zero\n",
    "math_df.fillna(0, inplace=True)\n",
    "ds_df.fillna(0, inplace=True)\n",
    "physics_df.fillna(0, inplace=True)\n",
    "\n",
    "#Merge the three files on common keys \n",
    "merged_df = pd.merge(math_df, ds_df, how='outer', on=['ID', 'Age', 'Sex'])\n",
    "merged_df = pd.merge(merged_df, physics_df, how='outer', on=['ID', 'Age', 'Sex'])\n",
    "\n",
    "merged_df['Sex'] = merged_df['Sex'].map({'M': 1, 'F': 2})\n",
    "\n",
    "# Step 6: Store the cleaned data in a new file\n",
    "merged_df.to_csv(\"ScoreFinal.csv\", index=False)\n"
   ]
  },
  {
   "cell_type": "code",
   "execution_count": null,
   "id": "7fb6c292-e30a-45bc-b102-2c03880b1f15",
   "metadata": {},
   "outputs": [],
   "source": []
  }
 ],
 "metadata": {
  "kernelspec": {
   "display_name": "Python 3 (ipykernel)",
   "language": "python",
   "name": "python3"
  },
  "language_info": {
   "codemirror_mode": {
    "name": "ipython",
    "version": 3
   },
   "file_extension": ".py",
   "mimetype": "text/x-python",
   "name": "python",
   "nbconvert_exporter": "python",
   "pygments_lexer": "ipython3",
   "version": "3.12.7"
  }
 },
 "nbformat": 4,
 "nbformat_minor": 5
}
