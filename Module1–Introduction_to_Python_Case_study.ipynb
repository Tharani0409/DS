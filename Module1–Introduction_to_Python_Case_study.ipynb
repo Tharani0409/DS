{
 "cells": [
  {
   "cell_type": "code",
   "execution_count": 10,
   "id": "2f7d561e-e78f-4493-8daf-d6b74f707d0b",
   "metadata": {},
   "outputs": [
    {
     "name": "stdin",
     "output_type": "stream",
     "text": [
      "Enter a number:  6\n"
     ]
    },
    {
     "name": "stdout",
     "output_type": "stream",
     "text": [
      "The factors of the given number 6 is [1, 2, 3, 6]\n",
      "6 of factor 1 is odd\n",
      "6 of factor 2 is even\n",
      "6 of factor 3 is odd\n",
      "6 of factor 6 is even\n"
     ]
    }
   ],
   "source": [
    "#Write a program that will find factors of the given number and find whether the factor is even or odd. Hint:Use Loop with if-else statements\n",
    "number = int(input(\"Enter a number: \"))\n",
    "factors = []\n",
    "for i in range(1, number+1):\n",
    "    if number%i ==0:\n",
    "        factors.append(i)\n",
    "print(f\"The factors of the given number {number} is {factors}\")\n",
    "for j in range(len(factors)):\n",
    "    if factors[j]%2 == 0:\n",
    "        print(f\"{number} of factor {factors[j]} is even\")\n",
    "    else:\n",
    "        print(f\"{number} of factor {factors[j]} is odd\")\n"
   ]
  },
  {
   "cell_type": "code",
   "execution_count": 64,
   "id": "3874a52e-70a1-4d35-a873-9b3e60cd635f",
   "metadata": {},
   "outputs": [
    {
     "name": "stdin",
     "output_type": "stream",
     "text": [
      "Enter a sequence of words:  my name is thara \n"
     ]
    },
    {
     "name": "stdout",
     "output_type": "stream",
     "text": [
      "is my name thara\n"
     ]
    }
   ],
   "source": [
    "#Write a code that accepts a sequence of words as input and prints the words in a sequence after sorting them alphabetically. Hint: In the case of\n",
    "#input data being supplied to the question,it should be assumed to be a console input\n",
    "words = str(input(\"Enter a sequence of words: \"))\n",
    "words_to_sort = words.split()\n",
    "words_to_sort.sort()\n",
    "print(' '.join(words_to_sort))"
   ]
  },
  {
   "cell_type": "code",
   "execution_count": 66,
   "id": "dbe0d825-4dd3-45b6-9584-aee2ba26dee8",
   "metadata": {},
   "outputs": [
    {
     "name": "stdout",
     "output_type": "stream",
     "text": [
      "2000,2002,2004,2006,2008,2020,2022,2024,2026,2028,2040,2042,2044,2046,2048,2060,2062,2064,2066,2068,2080,2082,2084,2086,2088,2200,2202,2204,2206,2208,2220,2222,2224,2226,2228,2240,2242,2244,2246,2248,2260,2262,2264,2266,2268,2280,2282,2284,2286,2288,2400,2402,2404,2406,2408,2420,2422,2424,2426,2428,2440,2442,2444,2446,2448,2460,2462,2464,2466,2468,2480,2482,2484,2486,2488,2600,2602,2604,2606,2608,2620,2622,2624,2626,2628,2640,2642,2644,2646,2648,2660,2662,2664,2666,2668,2680,2682,2684,2686,2688,2800,2802,2804,2806,2808,2820,2822,2824,2826,2828,2840,2842,2844,2846,2848,2860,2862,2864,2866,2868,2880,2882,2884,2886,2888\n"
     ]
    }
   ],
   "source": [
    "#Write a program, which will find all the numbers between 1000 and 3000(both included) such that each digit of a number is an even number. The numbers \n",
    "#obtained should be printed in a comma-separated sequence on a single line. Hint: Incase of input data being supplied to the question,it should be \n",
    "#assumed to be a console input. Divide each digit with 2 and verify is it even or not.\n",
    "\n",
    "first_number = 1000\n",
    "last_number = 3000\n",
    "even_digits = []\n",
    "for i in range(first_number, last_number+1):\n",
    "    if all(int(digit)%2 == 0 for digit in str(i)):\n",
    "        even_digits.append(str(i))\n",
    "print(\",\".join(even_digits))"
   ]
  },
  {
   "cell_type": "code",
   "execution_count": 38,
   "id": "66429752-9304-455a-9b00-0fb466705690",
   "metadata": {},
   "outputs": [
    {
     "name": "stdin",
     "output_type": "stream",
     "text": [
      "Enter an alphanumeric string:  Python0325\n"
     ]
    },
    {
     "name": "stdout",
     "output_type": "stream",
     "text": [
      "LETTERS: 6 DIGITS: 4\n"
     ]
    }
   ],
   "source": [
    "#Write a program that accepts a sentence and calculates the number of letters and digits.Suppose if the entered string is:Python0325 Then the output \n",
    "#will be:LETTERS:6 DIGITS:4 Hint:Use built-in functions of string.\n",
    "word = str(input(\"Enter an alphanumeric string: \"))\n",
    "digits = 0\n",
    "letters = 0\n",
    "for i in range(len(word)):\n",
    "    if word[i].isdigit():\n",
    "        digits+=1\n",
    "    else: #elif word[i].isalpha():\n",
    "        letters+=1\n",
    "print(f\"LETTERS: {letters} DIGITS: {digits}\")        "
   ]
  },
  {
   "cell_type": "code",
   "execution_count": 77,
   "id": "31230402-dc55-4b5f-acbd-ef9608fd9831",
   "metadata": {},
   "outputs": [
    {
     "name": "stdin",
     "output_type": "stream",
     "text": [
      "Enter any number:  1221\n"
     ]
    },
    {
     "name": "stdout",
     "output_type": "stream",
     "text": [
      "The given number 1221 is a Palindrome number\n"
     ]
    }
   ],
   "source": [
    "#Design a code that will find whether the given number is a Palindrome number or not. Hint:Use built-in functions of string. \n",
    "number = str(input(\"Enter any number: \"))\n",
    "rev_num = number[::-1]\n",
    "if rev_num == number:\n",
    "    print(f\"The given number {number} is a Palindrome number\")\n",
    "else:\n",
    "    print(f\"The given number {number} is not a Palindrome number\")\n"
   ]
  },
  {
   "cell_type": "code",
   "execution_count": null,
   "id": "92fc5b5f-8d02-4cc8-afc3-9bb42d84d9d5",
   "metadata": {},
   "outputs": [],
   "source": []
  }
 ],
 "metadata": {
  "kernelspec": {
   "display_name": "Python 3 (ipykernel)",
   "language": "python",
   "name": "python3"
  },
  "language_info": {
   "codemirror_mode": {
    "name": "ipython",
    "version": 3
   },
   "file_extension": ".py",
   "mimetype": "text/x-python",
   "name": "python",
   "nbconvert_exporter": "python",
   "pygments_lexer": "ipython3",
   "version": "3.12.7"
  }
 },
 "nbformat": 4,
 "nbformat_minor": 5
}
