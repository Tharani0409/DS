{
 "cells": [
  {
   "cell_type": "code",
   "execution_count": 2,
   "id": "9e0ce64d-b63d-4071-b4ee-2f6eccac21fc",
   "metadata": {},
   "outputs": [
    {
     "name": "stderr",
     "output_type": "stream",
     "text": [
      "C:\\Users\\thara\\AppData\\Local\\Temp\\ipykernel_26580\\3113589111.py:3: DtypeWarning: Columns (12) have mixed types. Specify dtype option on import or set low_memory=False.\n",
      "  df = pd.read_csv('Salaries.csv')\n"
     ]
    }
   ],
   "source": [
    "import pandas as pd\n",
    "\n",
    "df = pd.read_csv('Salaries.csv')\n",
    "\n",
    "df.columns = df.columns.str.strip()"
   ]
  },
  {
   "cell_type": "code",
   "execution_count": 8,
   "id": "2d50d35a-3c07-4646-b7fb-28bb388fec0d",
   "metadata": {},
   "outputs": [
    {
     "name": "stdout",
     "output_type": "stream",
     "text": [
      "Total salary cost increased by $282,797,920.54 from 2011 to 2014.\n"
     ]
    }
   ],
   "source": [
    "# 1. Total salary cost increase from 2011 to 2014\n",
    "total_2011 = df[df['Year'] == 2011]['TotalPay'].sum()\n",
    "total_2014 = df[df['Year'] == 2014]['TotalPay'].sum()\n",
    "increase_cost = total_2014 - total_2011\n",
    "\n",
    "print(f\"Total salary cost increased by ${increase_cost:,.2f} from 2011 to 2014.\")"
   ]
  },
  {
   "cell_type": "code",
   "execution_count": 10,
   "id": "ab9d1b74-9bb2-4e81-b9fc-54f3ef6612dc",
   "metadata": {},
   "outputs": [
    {
     "name": "stdout",
     "output_type": "stream",
     "text": [
      "Job Title with highest mean salary in 2014: Chief Investment Officer ($339,653.70)\n"
     ]
    }
   ],
   "source": [
    "# 2. Job title with highest mean salary in 2014\n",
    "mean_salary_2014 = df[df['Year'] == 2014].groupby('JobTitle')['TotalPay'].mean()\n",
    "top_mean_salary_job = mean_salary_2014.idxmax()\n",
    "top_mean_salary_value = mean_salary_2014.max()\n",
    "\n",
    "print(f\"Job Title with highest mean salary in 2014: {top_mean_salary_job} (${top_mean_salary_value:,.2f})\")"
   ]
  },
  {
   "cell_type": "code",
   "execution_count": 12,
   "id": "90b00eee-dc23-47e7-81f2-3f6fda7cd86c",
   "metadata": {},
   "outputs": [
    {
     "name": "stdout",
     "output_type": "stream",
     "text": [
      "Money that could have been saved in 2014 by stopping OverTimePay: $205,918,599.27\n"
     ]
    }
   ],
   "source": [
    "# 3. Money that could be saved by stopping OverTimePay in 2014\n",
    "overtime_2014 = df[df['Year'] == 2014]['OvertimePay'].sum()\n",
    "print(f\"Money that could have been saved in 2014 by stopping OverTimePay: ${overtime_2014:,.2f}\")"
   ]
  },
  {
   "cell_type": "code",
   "execution_count": 14,
   "id": "3f4ce8cc-6fff-4cea-bc5d-c79d23731f88",
   "metadata": {},
   "outputs": [
    {
     "name": "stdout",
     "output_type": "stream",
     "text": [
      "Top 5 common jobs in 2014 and their total cost:\n",
      "JobTitle\n",
      "Firefighter                     1.132836e+08\n",
      "Public Svc Aide-Public Works    8.535454e+06\n",
      "Registered Nurse                1.444065e+08\n",
      "Special Nurse                   4.949874e+07\n",
      "Transit Operator                1.520080e+08\n",
      "Name: TotalPay, dtype: float64\n"
     ]
    }
   ],
   "source": [
    "# 4. Top 5 common jobs in 2014 and total cost\n",
    "top5_jobs_2014 = df[df['Year'] == 2014]['JobTitle'].value_counts().head(5)\n",
    "top5_jobs_cost = df[(df['Year'] == 2014) & (df['JobTitle'].isin(top5_jobs_2014.index))].groupby('JobTitle')['TotalPay'].sum()\n",
    "\n",
    "print(\"Top 5 common jobs in 2014 and their total cost:\")\n",
    "print(top5_jobs_cost)"
   ]
  },
  {
   "cell_type": "code",
   "execution_count": 16,
   "id": "045d83aa-4301-4ddc-bef0-459bc26337c7",
   "metadata": {},
   "outputs": [
    {
     "name": "stdout",
     "output_type": "stream",
     "text": [
      "Top earning employee: NATHANIEL FORD with $567,595.43\n"
     ]
    }
   ],
   "source": [
    "# 5. Top earning employee across all years\n",
    "df['TotalPayBenefits'] = df['TotalPayBenefits'].fillna(0)\n",
    "top_earner = df.loc[df['TotalPayBenefits'].idxmax()]\n",
    "print(f\"Top earning employee: {top_earner['EmployeeName']} with ${top_earner['TotalPayBenefits']:,.2f}\")"
   ]
  },
  {
   "cell_type": "code",
   "execution_count": 18,
   "id": "a07f2391-5d06-4e70-bd25-5253aa0416e4",
   "metadata": {},
   "outputs": [
    {
     "name": "stdout",
     "output_type": "stream",
     "text": [
      "Last 5 common jobs in 2014 and their total cost:\n",
      "JobTitle\n",
      "Asst Dir, Log Cabin Rnch         96812.41\n",
      "Chf Prob Ofc, Juv Court         198104.36\n",
      "Claims Process Clerk             61795.03\n",
      "Electric Motor Repair Sprv 1    104563.68\n",
      "Media Production Specialist      71636.84\n",
      "Name: TotalPay, dtype: float64\n"
     ]
    }
   ],
   "source": [
    "# Last 5 common jobs in 2014\n",
    "last5_jobs_2014 = df[df['Year'] == 2014]['JobTitle'].value_counts().tail(5)\n",
    "last5_jobs_cost = df[(df['Year'] == 2014) & (df['JobTitle'].isin(last5_jobs_2014.index))].groupby('JobTitle')['TotalPay'].sum()\n",
    "\n",
    "print(\"Last 5 common jobs in 2014 and their total cost:\")\n",
    "print(last5_jobs_cost)"
   ]
  },
  {
   "cell_type": "code",
   "execution_count": 20,
   "id": "e2fbbe74-ae44-4df0-9b9a-58bf9c603666",
   "metadata": {},
   "outputs": [
    {
     "name": "stdout",
     "output_type": "stream",
     "text": [
      "OvertimePay was 5.39% of TotalPayBenefits in 2014.\n"
     ]
    }
   ],
   "source": [
    "# OvertimePay as % of TotalPayBenefits in 2014\n",
    "total_benefits_2014 = df[df['Year'] == 2014]['TotalPayBenefits'].sum()\n",
    "overtime_pct = (overtime_2014 / total_benefits_2014) * 100\n",
    "print(f\"OvertimePay was {overtime_pct:.2f}% of TotalPayBenefits in 2014.\")"
   ]
  },
  {
   "cell_type": "code",
   "execution_count": 22,
   "id": "e9d90647-9029-409b-9dc5-04445d7d2e5c",
   "metadata": {},
   "outputs": [
    {
     "name": "stdout",
     "output_type": "stream",
     "text": [
      "Job Title with lowest mean salary in 2014: Special Assistant 15 ($0.00)\n"
     ]
    }
   ],
   "source": [
    "# Job title with lowest mean salary in 2014\n",
    "lowest_mean_salary_job = mean_salary_2014.idxmin()\n",
    "lowest_mean_salary_value = mean_salary_2014.min()\n",
    "print(f\"Job Title with lowest mean salary in 2014: {lowest_mean_salary_job} (${lowest_mean_salary_value:,.2f})\")"
   ]
  },
  {
   "cell_type": "code",
   "execution_count": null,
   "id": "d7ad08c8-4948-415a-8ad5-4ed6ac7563eb",
   "metadata": {},
   "outputs": [],
   "source": []
  }
 ],
 "metadata": {
  "kernelspec": {
   "display_name": "Python 3 (ipykernel)",
   "language": "python",
   "name": "python3"
  },
  "language_info": {
   "codemirror_mode": {
    "name": "ipython",
    "version": 3
   },
   "file_extension": ".py",
   "mimetype": "text/x-python",
   "name": "python",
   "nbconvert_exporter": "python",
   "pygments_lexer": "ipython3",
   "version": "3.12.7"
  }
 },
 "nbformat": 4,
 "nbformat_minor": 5
}
