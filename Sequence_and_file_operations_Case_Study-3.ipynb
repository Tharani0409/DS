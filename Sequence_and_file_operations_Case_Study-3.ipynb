{
 "cells": [
  {
   "cell_type": "code",
   "execution_count": 28,
   "id": "5d81d6e6-8450-46b9-8f6f-e7df77e2105b",
   "metadata": {},
   "outputs": [
    {
     "name": "stdin",
     "output_type": "stream",
     "text": [
      "Enter your Reference ID:  Abc@12345678\n"
     ]
    },
    {
     "name": "stdout",
     "output_type": "stream",
     "text": [
      "You entered the correct REFERENCE ID\n",
      "Your Encrypted Reference ID is:  b'QWJjQDEyMzQ1Njc4'\n"
     ]
    },
    {
     "name": "stdin",
     "output_type": "stream",
     "text": [
      "Do you want to decrypt the Reference ID? (yes/no):  yes\n"
     ]
    },
    {
     "name": "stdout",
     "output_type": "stream",
     "text": [
      "Decrypted Reference ID: Abc@12345678\n"
     ]
    }
   ],
   "source": [
    "import base64\n",
    "import re \n",
    "Ref_Id = input(\"Enter your Reference ID: \")\n",
    "flag = 0\n",
    "while True:\n",
    "    if (len(Ref_Id) <12):\n",
    "        flag = -1\n",
    "        break\n",
    "    elif not re.search(\"[a-z]\", Ref_Id):\n",
    "        flag = -1\n",
    "        break\n",
    "    elif not re.search(\"[A-Z]\", Ref_Id):\n",
    "        flag = -1\n",
    "        break \n",
    "    elif not re.search(\"[0-9]\", Ref_Id):\n",
    "        flag = -1\n",
    "        break   \n",
    "    elif not re.search(\"[!%^*$#@]\", Ref_Id):\n",
    "        flag = -1\n",
    "        break   \n",
    "    else:\n",
    "        flag = 0 \n",
    "        print(\"You entered the correct REFERENCE ID\")\n",
    "        encrypted_id = base64.b64encode(Ref_Id.encode())\n",
    "        print(\"Your Encrypted Reference ID is: \", encrypted_id)\n",
    "#enhanced code - Give the option for decryption to the user    \n",
    "        choice = input(\"Do you want to decrypt the Reference ID? (yes/no): \").lower()\n",
    "        if choice == \"yes\":\n",
    "            decrypted_id = base64.b64decode(encrypted_id.decode(\"utf-8\")\n",
    "            print(\"Decrypted Reference ID:\", decrypted_id)\n",
    "        else:\n",
    "            print(\"Decryption skipped.\")\n",
    "        break\n",
    "if flag==-1:\n",
    "    print(\"Invalid Reference ID. It must be 12 characters long, alphanumeric and it should contain atleast one special characters.\")\n",
    "          "
   ]
  },
  {
   "cell_type": "code",
   "execution_count": null,
   "id": "58a8579f-dba3-462e-ba2a-509e42686faf",
   "metadata": {},
   "outputs": [],
   "source": []
  }
 ],
 "metadata": {
  "kernelspec": {
   "display_name": "Python 3 (ipykernel)",
   "language": "python",
   "name": "python3"
  },
  "language_info": {
   "codemirror_mode": {
    "name": "ipython",
    "version": 3
   },
   "file_extension": ".py",
   "mimetype": "text/x-python",
   "name": "python",
   "nbconvert_exporter": "python",
   "pygments_lexer": "ipython3",
   "version": "3.12.7"
  }
 },
 "nbformat": 4,
 "nbformat_minor": 5
}
