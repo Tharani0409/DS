{
 "cells": [
  {
   "cell_type": "code",
   "execution_count": 46,
   "id": "0f6841e6-6c13-4e56-a0e4-664b425523d7",
   "metadata": {},
   "outputs": [
    {
     "name": "stdout",
     "output_type": "stream",
     "text": [
      "Distance from origin: 2\n"
     ]
    }
   ],
   "source": [
    "#1\n",
    "import math\n",
    "\n",
    "x = 0\n",
    "y = 0\n",
    "\n",
    "moves = [(\"UP\", 5), (\"DOWN\", 3), (\"LEFT\", 3), (\"RIGHT\", 2)]\n",
    "for direction, value in moves:\n",
    "    if direction == \"UP\":\n",
    "        y += value\n",
    "    elif direction == \"DOWN\":\n",
    "        y -= value\n",
    "    elif direction == \"LEFT\":\n",
    "        x -= value\n",
    "    elif direction == \"RIGHT\":\n",
    "        x += value\n",
    "\n",
    "distance = math.sqrt(x**2 + y**2)\n",
    "print(\"Distance from origin:\", round(distance))"
   ]
  },
  {
   "cell_type": "code",
   "execution_count": 48,
   "id": "6b51cd22-a1e0-4dd6-893b-1e82289d40fb",
   "metadata": {},
   "outputs": [
    {
     "name": "stdout",
     "output_type": "stream",
     "text": [
      "30 found in list.\n"
     ]
    }
   ],
   "source": [
    "#2\n",
    "data = [10, 20, 30, 40, 50]\n",
    "search = 30\n",
    "if search in data:\n",
    "    print(f\"{search} found in list.\")\n",
    "else:\n",
    "    print(f\"{search} not found.\")"
   ]
  },
  {
   "cell_type": "code",
   "execution_count": 50,
   "id": "40c71500-eb6b-4373-9bf4-ab4003613b52",
   "metadata": {},
   "outputs": [
    {
     "name": "stdout",
     "output_type": "stream",
     "text": [
      "It's dark outside.\n"
     ]
    }
   ],
   "source": [
    "#3\n",
    "import time\n",
    "\n",
    "hour = time.localtime().tm_hour\n",
    "if 6 <= hour <= 18:\n",
    "    print(\"It's day time.\")\n",
    "else:\n",
    "    print(\"It's dark outside.\")\n"
   ]
  },
  {
   "cell_type": "code",
   "execution_count": 52,
   "id": "75bb9b61-550b-4360-8651-9599d3d624f7",
   "metadata": {},
   "outputs": [
    {
     "name": "stdout",
     "output_type": "stream",
     "text": [
      "Distance: 1315.5101556559903\n"
     ]
    }
   ],
   "source": [
    "#4\n",
    "from math import radians, sin, cos, sqrt, atan2\n",
    "\n",
    "def haversine(lat1, lon1, lat2, lon2):\n",
    "    R = 6371  # Radius of Earth in km\n",
    "    dlat = radians(lat2 - lat1)\n",
    "    dlon = radians(lon2 - lon1)\n",
    "    a = sin(dlat / 2)**2 + cos(radians(lat1)) * cos(radians(lat2)) * sin(dlon / 2)**2\n",
    "    c = 2 * atan2(sqrt(a), sqrt(1 - a))\n",
    "    return R * c\n",
    "\n",
    "print(\"Distance:\", haversine(52.2296756, 21.0122287, 41.8919300, 12.5113300))\n"
   ]
  },
  {
   "cell_type": "code",
   "execution_count": 54,
   "id": "0bd436d4-760b-4f23-92ff-09d29a727a41",
   "metadata": {},
   "outputs": [
    {
     "name": "stdout",
     "output_type": "stream",
     "text": [
      "\n",
      "1. Withdraw\n",
      "2. Credit\n",
      "3. Change Password\n",
      "4. Exit\n"
     ]
    },
    {
     "name": "stdin",
     "output_type": "stream",
     "text": [
      "Enter choice:  1\n",
      "Amount to withdraw:  100\n"
     ]
    },
    {
     "name": "stdout",
     "output_type": "stream",
     "text": [
      "Balance: 900.0\n",
      "\n",
      "1. Withdraw\n",
      "2. Credit\n",
      "3. Change Password\n",
      "4. Exit\n"
     ]
    },
    {
     "name": "stdin",
     "output_type": "stream",
     "text": [
      "Enter choice:  2\n",
      "Amount to credit:  2000\n"
     ]
    },
    {
     "name": "stdout",
     "output_type": "stream",
     "text": [
      "Balance: 2900.0\n",
      "\n",
      "1. Withdraw\n",
      "2. Credit\n",
      "3. Change Password\n",
      "4. Exit\n"
     ]
    },
    {
     "name": "stdin",
     "output_type": "stream",
     "text": [
      "Enter choice:  4\n"
     ]
    }
   ],
   "source": [
    "#5\n",
    "def bank():\n",
    "    balance = 1000\n",
    "    while True:\n",
    "        print(\"\\n1. Withdraw\\n2. Credit\\n3. Change Password\\n4. Exit\")\n",
    "        choice = input(\"Enter choice: \")\n",
    "        if choice == \"1\":\n",
    "            amt = float(input(\"Amount to withdraw: \"))\n",
    "            balance -= amt\n",
    "            print(\"Balance:\", balance)\n",
    "        elif choice == \"2\":\n",
    "            amt = float(input(\"Amount to credit: \"))\n",
    "            balance += amt\n",
    "            print(\"Balance:\", balance)\n",
    "        elif choice == \"3\":\n",
    "            input(\"Enter new password: \")\n",
    "            print(\"Password changed.\")\n",
    "        elif choice == \"4\":\n",
    "            break\n",
    "        else:\n",
    "            print(\"Invalid option.\")\n",
    "\n",
    "bank()"
   ]
  },
  {
   "cell_type": "code",
   "execution_count": 56,
   "id": "7788655b-550e-47fa-a844-bf9e798f0135",
   "metadata": {},
   "outputs": [
    {
     "name": "stdout",
     "output_type": "stream",
     "text": [
      "2002,2009,2016,2023,2037,2044,2051,2058,2072,2079,2086,2093,2107,2114,2121,2128,2142,2149,2156,2163,2177,2184,2191,2198,2212,2219,2226,2233,2247,2254,2261,2268,2282,2289,2296,2303,2317,2324,2331,2338,2352,2359,2366,2373,2387,2394,2401,2408,2422,2429,2436,2443,2457,2464,2471,2478,2492,2499,2506,2513,2527,2534,2541,2548,2562,2569,2576,2583,2597,2604,2611,2618,2632,2639,2646,2653,2667,2674,2681,2688,2702,2709,2716,2723,2737,2744,2751,2758,2772,2779,2786,2793,2807,2814,2821,2828,2842,2849,2856,2863,2877,2884,2891,2898,2912,2919,2926,2933,2947,2954,2961,2968,2982,2989,2996,3003,3017,3024,3031,3038,3052,3059,3066,3073,3087,3094,3101,3108,3122,3129,3136,3143,3157,3164,3171,3178,3192,3199\n"
     ]
    }
   ],
   "source": [
    "#6\n",
    "print(\",\".join([str(i) for i in range(2000, 3201) if i % 7 == 0 and i % 5 != 0]))"
   ]
  },
  {
   "cell_type": "code",
   "execution_count": 58,
   "id": "1d49f977-d826-4995-b9e9-10462789f761",
   "metadata": {},
   "outputs": [
    {
     "name": "stdout",
     "output_type": "stream",
     "text": [
      "Factorial: 40320\n"
     ]
    }
   ],
   "source": [
    "#7\n",
    "def factorial(n):\n",
    "    return 1 if n == 0 else n * factorial(n - 1)\n",
    "\n",
    "print(\"Factorial:\", factorial(8))"
   ]
  },
  {
   "cell_type": "code",
   "execution_count": 60,
   "id": "4f3b10b1-0165-40b6-acac-9baac9d3e982",
   "metadata": {},
   "outputs": [
    {
     "name": "stdout",
     "output_type": "stream",
     "text": [
      "18,22,24\n"
     ]
    }
   ],
   "source": [
    "#8\n",
    "import math\n",
    "\n",
    "C = 50\n",
    "H = 30\n",
    "D = [100, 150, 180]\n",
    "Q = [str(int(math.sqrt((2 * C * d) / H))) for d in D]\n",
    "print(\",\".join(Q))"
   ]
  },
  {
   "cell_type": "code",
   "execution_count": 62,
   "id": "6c51741f-7260-4377-9eb0-61cff57bb960",
   "metadata": {},
   "outputs": [
    {
     "name": "stdout",
     "output_type": "stream",
     "text": [
      "[[0, 0, 0, 0, 0], [0, 1, 2, 3, 4], [0, 2, 4, 6, 8]]\n"
     ]
    }
   ],
   "source": [
    "#9\n",
    "X, Y = 3, 5\n",
    "print([[i * j for j in range(Y)] for i in range(X)])"
   ]
  },
  {
   "cell_type": "code",
   "execution_count": 64,
   "id": "e3901b65-263e-4f0d-bb64-6c2862085869",
   "metadata": {},
   "outputs": [
    {
     "name": "stdin",
     "output_type": "stream",
     "text": [
      "Enter comma-separated words:  without,hello,bag,world\n"
     ]
    },
    {
     "name": "stdout",
     "output_type": "stream",
     "text": [
      "bag,hello,without,world\n"
     ]
    }
   ],
   "source": [
    "#10\n",
    "words = input(\"Enter comma-separated words: \")\n",
    "print(\",\".join(sorted(words.split(\",\"))))"
   ]
  },
  {
   "cell_type": "code",
   "execution_count": 66,
   "id": "8a72a064-c973-47d8-9a65-564e181751f9",
   "metadata": {},
   "outputs": [
    {
     "name": "stdin",
     "output_type": "stream",
     "text": [
      " Hello world\n",
      " Practice makes perfect\n",
      " \n"
     ]
    },
    {
     "name": "stdout",
     "output_type": "stream",
     "text": [
      "HELLO WORLD\n",
      "PRACTICE MAKES PERFECT\n"
     ]
    }
   ],
   "source": [
    "#11\n",
    "lines = []\n",
    "while True:\n",
    "    line = input()\n",
    "    if not line:\n",
    "        break\n",
    "    lines.append(line.upper())\n",
    "\n",
    "print(\"\\n\".join(lines))\n"
   ]
  },
  {
   "cell_type": "code",
   "execution_count": 68,
   "id": "7cbc77e7-d11e-4595-833b-8daafb36eb5d",
   "metadata": {},
   "outputs": [
    {
     "name": "stdin",
     "output_type": "stream",
     "text": [
      "Enter space-separated words:  hello world and practice makes perfect and hello world again\n"
     ]
    },
    {
     "name": "stdout",
     "output_type": "stream",
     "text": [
      "again and hello makes perfect practice world\n"
     ]
    }
   ],
   "source": [
    "#12\n",
    "text = input(\"Enter space-separated words: \")\n",
    "words = sorted(set(text.split()))\n",
    "print(\" \".join(words))"
   ]
  },
  {
   "cell_type": "code",
   "execution_count": 70,
   "id": "793247f0-b4ca-4cc2-a3ea-c78fadb8a8f3",
   "metadata": {},
   "outputs": [
    {
     "name": "stdin",
     "output_type": "stream",
     "text": [
      "Enter binary numbers:  0100,0011,1010,1001\n"
     ]
    },
    {
     "name": "stdout",
     "output_type": "stream",
     "text": [
      "1010\n"
     ]
    }
   ],
   "source": [
    "#13\n",
    "nums = input(\"Enter binary numbers: \").split(\",\")\n",
    "valid = [n for n in nums if int(n, 2) % 5 == 0]\n",
    "print(\",\".join(valid))"
   ]
  },
  {
   "cell_type": "code",
   "execution_count": 72,
   "id": "d45b4dea-f710-4a9b-b797-f5056e0fefc6",
   "metadata": {},
   "outputs": [
    {
     "name": "stdin",
     "output_type": "stream",
     "text": [
      "Enter sentence:  Hello world!\n"
     ]
    },
    {
     "name": "stdout",
     "output_type": "stream",
     "text": [
      "UPPER CASE 1\n",
      "LOWER CASE 9\n"
     ]
    }
   ],
   "source": [
    "#14\n",
    "s = input(\"Enter sentence: \")\n",
    "upper = sum(1 for c in s if c.isupper())\n",
    "lower = sum(1 for c in s if c.islower())\n",
    "print(\"UPPER CASE\", upper)\n",
    "print(\"LOWER CASE\", lower)"
   ]
  },
  {
   "cell_type": "code",
   "execution_count": 74,
   "id": "2c71a4e6-eab7-454b-bd66-3c75ecb5e5a0",
   "metadata": {},
   "outputs": [
    {
     "name": "stdout",
     "output_type": "stream",
     "text": [
      "sum: 1.0\n",
      "fsum: 1.0\n"
     ]
    }
   ],
   "source": [
    "#15\n",
    "import math\n",
    "\n",
    "data = [0.1] * 10\n",
    "print(\"sum:\", sum(data))\n",
    "print(\"fsum:\", math.fsum(data))"
   ]
  }
 ],
 "metadata": {
  "kernelspec": {
   "display_name": "Python 3 (ipykernel)",
   "language": "python",
   "name": "python3"
  },
  "language_info": {
   "codemirror_mode": {
    "name": "ipython",
    "version": 3
   },
   "file_extension": ".py",
   "mimetype": "text/x-python",
   "name": "python",
   "nbconvert_exporter": "python",
   "pygments_lexer": "ipython3",
   "version": "3.12.7"
  }
 },
 "nbformat": 4,
 "nbformat_minor": 5
}
