{
 "cells": [
  {
   "cell_type": "code",
   "execution_count": 2,
   "id": "99f87d4a-1329-42c0-a90c-50f1f0dd3b1e",
   "metadata": {},
   "outputs": [],
   "source": [
    "import pandas as pd\n",
    "import numpy as np\n",
    "import seaborn as sns\n",
    "import matplotlib.pyplot as plt\n",
    "from sklearn.model_selection import train_test_split\n",
    "from sklearn.preprocessing import LabelEncoder\n",
    "from sklearn.tree import DecisionTreeClassifier\n",
    "from sklearn.ensemble import RandomForestClassifier\n",
    "from sklearn.metrics import classification_report, accuracy_score, confusion_matrix\n",
    "\n",
    "# 1. Load dataset\n",
    "df = pd.read_csv('loan_borowwer_data.csv')"
   ]
  },
  {
   "cell_type": "code",
   "execution_count": 4,
   "id": "8bc3116f-8abb-4ffd-bafa-99f69e119ebd",
   "metadata": {},
   "outputs": [
    {
     "name": "stdout",
     "output_type": "stream",
     "text": [
      "Missing values per column:\n",
      " credit.policy        0\n",
      "purpose              0\n",
      "int.rate             0\n",
      "installment          0\n",
      "log.annual.inc       0\n",
      "dti                  0\n",
      "fico                 0\n",
      "days.with.cr.line    0\n",
      "revol.bal            0\n",
      "revol.util           0\n",
      "inq.last.6mths       0\n",
      "delinq.2yrs          0\n",
      "pub.rec              0\n",
      "not.fully.paid       0\n",
      "dtype: int64\n",
      "\n",
      "Data types:\n",
      " credit.policy          int64\n",
      "purpose               object\n",
      "int.rate             float64\n",
      "installment          float64\n",
      "log.annual.inc       float64\n",
      "dti                  float64\n",
      "fico                   int64\n",
      "days.with.cr.line    float64\n",
      "revol.bal              int64\n",
      "revol.util           float64\n",
      "inq.last.6mths         int64\n",
      "delinq.2yrs            int64\n",
      "pub.rec                int64\n",
      "not.fully.paid         int64\n",
      "dtype: object\n"
     ]
    }
   ],
   "source": [
    "# 2. Basic EDA\n",
    "print(\"Missing values per column:\\n\", df.isnull().sum())\n",
    "print(\"\\nData types:\\n\", df.dtypes)"
   ]
  },
  {
   "cell_type": "code",
   "execution_count": 6,
   "id": "decff1a3-d7ae-4bf0-ace2-e08d6ee0605a",
   "metadata": {},
   "outputs": [],
   "source": [
    "# 3. Encode categorical variable ('purpose')\n",
    "df['purpose'] = LabelEncoder().fit_transform(df['purpose'])"
   ]
  },
  {
   "cell_type": "code",
   "execution_count": 8,
   "id": "41f28385-8b32-4c0d-8f5f-be0c8ccf0b54",
   "metadata": {},
   "outputs": [],
   "source": [
    "# 4. Define features and target\n",
    "X = df.drop('not.fully.paid', axis=1)\n",
    "y = df['not.fully.paid']\n",
    "\n",
    "# 5. Split dataset\n",
    "X_train, X_test, y_train, y_test = train_test_split(X, y, test_size=0.2, random_state=42)\n"
   ]
  },
  {
   "cell_type": "code",
   "execution_count": 10,
   "id": "7e9304df-f113-4258-b119-1a4d79ee3226",
   "metadata": {},
   "outputs": [
    {
     "name": "stdout",
     "output_type": "stream",
     "text": [
      "\n",
      "Decision Tree Results:\n",
      "Accuracy: 0.7484342379958246\n",
      "              precision    recall  f1-score   support\n",
      "\n",
      "           0       0.85      0.85      0.85      1611\n",
      "           1       0.22      0.24      0.23       305\n",
      "\n",
      "    accuracy                           0.75      1916\n",
      "   macro avg       0.54      0.54      0.54      1916\n",
      "weighted avg       0.75      0.75      0.75      1916\n",
      "\n"
     ]
    }
   ],
   "source": [
    "# 6. Train Decision Tree\n",
    "dt_model = DecisionTreeClassifier(random_state=42)\n",
    "dt_model.fit(X_train, y_train)\n",
    "dt_preds = dt_model.predict(X_test)\n",
    "print(\"\\nDecision Tree Results:\")\n",
    "print(\"Accuracy:\", accuracy_score(y_test, dt_preds))\n",
    "print(classification_report(y_test, dt_preds))"
   ]
  },
  {
   "cell_type": "code",
   "execution_count": 12,
   "id": "60b993ba-eb67-403c-b68a-41dbbb2bc636",
   "metadata": {},
   "outputs": [
    {
     "name": "stdout",
     "output_type": "stream",
     "text": [
      "\n",
      "Random Forest Results:\n",
      "Accuracy: 0.8392484342379958\n",
      "              precision    recall  f1-score   support\n",
      "\n",
      "           0       0.84      0.99      0.91      1611\n",
      "           1       0.40      0.02      0.04       305\n",
      "\n",
      "    accuracy                           0.84      1916\n",
      "   macro avg       0.62      0.51      0.47      1916\n",
      "weighted avg       0.77      0.84      0.77      1916\n",
      "\n"
     ]
    }
   ],
   "source": [
    "# 7. Train Random Forest\n",
    "rf_model = RandomForestClassifier(n_estimators=100, random_state=42)\n",
    "rf_model.fit(X_train, y_train)\n",
    "rf_preds = rf_model.predict(X_test)\n",
    "print(\"\\nRandom Forest Results:\")\n",
    "print(\"Accuracy:\", accuracy_score(y_test, rf_preds))\n",
    "print(classification_report(y_test, rf_preds))"
   ]
  },
  {
   "cell_type": "code",
   "execution_count": 14,
   "id": "6769d8b4-d5b8-4c87-88a0-2ab3bbfa8337",
   "metadata": {},
   "outputs": [
    {
     "data": {
      "image/png": "[encoded data removed]",
      "text/plain": [
       "<Figure size 800x400 with 2 Axes>"
      ]
     },
     "metadata": {},
     "output_type": "display_data"
    }
   ],
   "source": [
    "# Optional: Confusion matrix heatmap\n",
    "plt.figure(figsize=(8, 4))\n",
    "sns.heatmap(confusion_matrix(y_test, rf_preds), annot=True, fmt='d', cmap='Blues')\n",
    "plt.title(\"Confusion Matrix - Random Forest\")\n",
    "plt.xlabel(\"Predicted\")\n",
    "plt.ylabel(\"Actual\")\n",
    "plt.show()"
   ]
  },
  {
   "cell_type": "code",
   "execution_count": null,
   "id": "54472754-fe05-414f-886d-f8973c1caf9c",
   "metadata": {},
   "outputs": [],
   "source": []
  }
 ],
 "metadata": {
  "kernelspec": {
   "display_name": "Python 3 (ipykernel)",
   "language": "python",
   "name": "python3"
  },
  "language_info": {
   "codemirror_mode": {
    "name": "ipython",
    "version": 3
   },
   "file_extension": ".py",
   "mimetype": "text/x-python",
   "name": "python",
   "nbconvert_exporter": "python",
   "pygments_lexer": "ipython3",
   "version": "3.12.7"
  }
 },
 "nbformat": 4,
 "nbformat_minor": 5
}
