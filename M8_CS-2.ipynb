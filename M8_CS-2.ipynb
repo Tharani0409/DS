{
 "cells": [
  {
   "cell_type": "code",
   "execution_count": 2,
   "id": "0d50dc3e-4f43-4e00-9c1a-ac8a4af80f60",
   "metadata": {},
   "outputs": [],
   "source": [
    "import numpy as np\n",
    "import matplotlib.pyplot as plt\n",
    "from sklearn.datasets import load_digits\n",
    "from sklearn.model_selection import train_test_split\n",
    "from sklearn.discriminant_analysis import LinearDiscriminantAnalysis\n",
    "from sklearn.linear_model import LogisticRegression\n",
    "from sklearn.metrics import accuracy_score, classification_report"
   ]
  },
  {
   "cell_type": "code",
   "execution_count": 4,
   "id": "2f863b4b-63ca-4301-b3d0-5ebb4f52edd2",
   "metadata": {},
   "outputs": [],
   "source": [
    "# 1. Load digits dataset and perform train-test split\n",
    "digits = load_digits()\n",
    "X, y = digits.data, digits.target\n",
    "\n",
    "X_train, X_test, y_train, y_test = train_test_split(X, y, test_size=0.2, random_state=42)"
   ]
  },
  {
   "cell_type": "code",
   "execution_count": 6,
   "id": "238a0f7a-c0ff-4f36-b870-3d4ad7d8d23b",
   "metadata": {},
   "outputs": [
    {
     "name": "stdout",
     "output_type": "stream",
     "text": [
      "Number of LDA components: 9\n"
     ]
    }
   ],
   "source": [
    "# 2. Apply LDA\n",
    "lda = LinearDiscriminantAnalysis()\n",
    "X_train_lda = lda.fit_transform(X_train, y_train)\n",
    "X_test_lda = lda.transform(X_test)\n",
    "\n",
    "print(f\"Number of LDA components: {X_train_lda.shape[1]}\")"
   ]
  },
  {
   "cell_type": "code",
   "execution_count": 8,
   "id": "35a64fd6-ed27-45cd-b05d-9c8d412b621c",
   "metadata": {},
   "outputs": [
    {
     "name": "stdout",
     "output_type": "stream",
     "text": [
      "LDA + Logistic Regression Accuracy: 0.9500\n",
      "\n",
      "Classification Report:\n",
      "               precision    recall  f1-score   support\n",
      "\n",
      "           0       0.97      0.97      0.97        33\n",
      "           1       0.90      0.96      0.93        28\n",
      "           2       0.94      0.97      0.96        33\n",
      "           3       0.94      0.97      0.96        34\n",
      "           4       1.00      0.98      0.99        46\n",
      "           5       0.94      0.94      0.94        47\n",
      "           6       0.94      0.97      0.96        35\n",
      "           7       0.97      0.97      0.97        34\n",
      "           8       0.93      0.90      0.92        30\n",
      "           9       0.95      0.88      0.91        40\n",
      "\n",
      "    accuracy                           0.95       360\n",
      "   macro avg       0.95      0.95      0.95       360\n",
      "weighted avg       0.95      0.95      0.95       360\n",
      "\n"
     ]
    }
   ],
   "source": [
    "# 3. Train Logistic Regression on LDA-transformed data\n",
    "log_reg = LogisticRegression(max_iter=1000)\n",
    "log_reg.fit(X_train_lda, y_train)\n",
    "y_pred_lda = log_reg.predict(X_test_lda)\n",
    "\n",
    "# Evaluate performance\n",
    "lda_accuracy = accuracy_score(y_test, y_pred_lda)\n",
    "print(f\"LDA + Logistic Regression Accuracy: {lda_accuracy:.4f}\")\n",
    "print(\"\\nClassification Report:\\n\", classification_report(y_test, y_pred_lda))"
   ]
  },
  {
   "cell_type": "code",
   "execution_count": null,
   "id": "fdc8d368-9033-426f-b747-a20c531d363b",
   "metadata": {},
   "outputs": [],
   "source": []
  }
 ],
 "metadata": {
  "kernelspec": {
   "display_name": "Python 3 (ipykernel)",
   "language": "python",
   "name": "python3"
  },
  "language_info": {
   "codemirror_mode": {
    "name": "ipython",
    "version": 3
   },
   "file_extension": ".py",
   "mimetype": "text/x-python",
   "name": "python",
   "nbconvert_exporter": "python",
   "pygments_lexer": "ipython3",
   "version": "3.12.7"
  }
 },
 "nbformat": 4,
 "nbformat_minor": 5
}
