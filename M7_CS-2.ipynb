{
 "cells": [
  {
   "cell_type": "code",
   "execution_count": 2,
   "id": "38c5993a-0560-43ff-83bb-9e5e7d58379c",
   "metadata": {},
   "outputs": [
    {
     "name": "stdout",
     "output_type": "stream",
     "text": [
      "Missing values per column:\n",
      " surgery                    0\n",
      "age                        0\n",
      "hospital_number            0\n",
      "rectal_temp               60\n",
      "pulse                     24\n",
      "respiratory_rate          58\n",
      "temp_of_extremities       56\n",
      "peripheral_pulse          69\n",
      "mucous_membrane           47\n",
      "capillary_refill_time     32\n",
      "pain                      55\n",
      "peristalsis               44\n",
      "abdominal_distention      56\n",
      "nasogastric_tube         104\n",
      "nasogastric_reflux       106\n",
      "nasogastric_reflux_ph    246\n",
      "rectal_exam_feces        102\n",
      "abdomen                  118\n",
      "packed_cell_volume        29\n",
      "total_protein             33\n",
      "abdomo_appearance        165\n",
      "abdomo_protein           198\n",
      "outcome                    0\n",
      "surgical_lesion            0\n",
      "lesion_1                   0\n",
      "lesion_2                   0\n",
      "lesion_3                   0\n",
      "cp_data                    0\n",
      "dtype: int64\n"
     ]
    }
   ],
   "source": [
    "import pandas as pd\n",
    "import numpy as np\n",
    "from sklearn.model_selection import train_test_split\n",
    "from sklearn.preprocessing import LabelEncoder\n",
    "from sklearn.impute import SimpleImputer\n",
    "from sklearn.tree import DecisionTreeClassifier\n",
    "from sklearn.ensemble import RandomForestClassifier\n",
    "from sklearn.metrics import accuracy_score\n",
    "\n",
    "# 1. Load data and check for missing values\n",
    "df = pd.read_csv('horse.csv')\n",
    "print(\"Missing values per column:\\n\", df.isnull().sum())\n"
   ]
  },
  {
   "cell_type": "code",
   "execution_count": 4,
   "id": "a998aa24-c87d-4767-b06d-e728c9db33cf",
   "metadata": {},
   "outputs": [],
   "source": [
    "# 2. Encode categorical features\n",
    "for col in df.select_dtypes(include='object').columns:\n",
    "    df[col] = df[col].astype(str)  # ensure consistent string values\n",
    "    le = LabelEncoder()\n",
    "    df[col] = le.fit_transform(df[col])"
   ]
  },
  {
   "cell_type": "code",
   "execution_count": 6,
   "id": "52c71992-408a-4b54-804e-918f97b8fd76",
   "metadata": {},
   "outputs": [],
   "source": [
    "# 3. Impute missing values with most frequent value\n",
    "imputer = SimpleImputer(strategy='most_frequent')\n",
    "df_imputed = pd.DataFrame(imputer.fit_transform(df), columns=df.columns)\n",
    "\n",
    "# Separate features and target\n",
    "X = df_imputed.drop('outcome', axis=1)\n",
    "y = df_imputed['outcome']\n",
    "\n",
    "# Split dataset\n",
    "X_train, X_test, y_train, y_test = train_test_split(X, y, test_size=0.2, random_state=42)"
   ]
  },
  {
   "cell_type": "code",
   "execution_count": 8,
   "id": "d8a9dd26-78be-4d44-b480-9373cd4bd8b1",
   "metadata": {},
   "outputs": [
    {
     "name": "stdout",
     "output_type": "stream",
     "text": [
      "Decision Tree Accuracy: 0.5833\n"
     ]
    }
   ],
   "source": [
    "# 4. Decision Tree\n",
    "dt_model = DecisionTreeClassifier(random_state=42)\n",
    "dt_model.fit(X_train, y_train)\n",
    "dt_preds = dt_model.predict(X_test)\n",
    "dt_accuracy = accuracy_score(y_test, dt_preds)\n",
    "print(f'Decision Tree Accuracy: {dt_accuracy:.4f}')"
   ]
  },
  {
   "cell_type": "code",
   "execution_count": 10,
   "id": "637cc0d6-c93e-4fd6-ab74-2582cebbfb72",
   "metadata": {},
   "outputs": [
    {
     "name": "stdout",
     "output_type": "stream",
     "text": [
      "Random Forest Accuracy: 0.6667\n"
     ]
    }
   ],
   "source": [
    "# 5. Random Forest\n",
    "rf_model = RandomForestClassifier(random_state=42)\n",
    "rf_model.fit(X_train, y_train)\n",
    "rf_preds = rf_model.predict(X_test)\n",
    "rf_accuracy = accuracy_score(y_test, rf_preds)\n",
    "print(f'Random Forest Accuracy: {rf_accuracy:.4f}')"
   ]
  },
  {
   "cell_type": "code",
   "execution_count": null,
   "id": "db0722f5-420f-4792-8b6c-084c80ab7313",
   "metadata": {},
   "outputs": [],
   "source": []
  }
 ],
 "metadata": {
  "kernelspec": {
   "display_name": "Python 3 (ipykernel)",
   "language": "python",
   "name": "python3"
  },
  "language_info": {
   "codemirror_mode": {
    "name": "ipython",
    "version": 3
   },
   "file_extension": ".py",
   "mimetype": "text/x-python",
   "name": "python",
   "nbconvert_exporter": "python",
   "pygments_lexer": "ipython3",
   "version": "3.12.7"
  }
 },
 "nbformat": 4,
 "nbformat_minor": 5
}
