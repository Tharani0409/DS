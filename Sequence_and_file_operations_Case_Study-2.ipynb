{
 "cells": [
  {
   "cell_type": "code",
   "execution_count": 4,
   "id": "213d2b0c-8c64-4518-a0d9-2d64cdf4ed43",
   "metadata": {},
   "outputs": [
    {
     "name": "stdout",
     "output_type": "stream",
     "text": [
      "4\n"
     ]
    }
   ],
   "source": [
    "#1.What is the output of the following code? Hint:Set consists of a unique element.\n",
    "#answer = 4\n",
    "nums =set([1,1,2,3,3,3,4,4])\n",
    "print(len(nums))"
   ]
  },
  {
   "cell_type": "code",
   "execution_count": 8,
   "id": "6363aa0a-26ef-4450-81bc-58e41aae510b",
   "metadata": {},
   "outputs": [
    {
     "name": "stdout",
     "output_type": "stream",
     "text": [
      "['john', 'peter']\n"
     ]
    }
   ],
   "source": [
    "#2.What will be the output? Hint:d.keys()isthefunctionthatwillshowkeys.\n",
    "#answer = ['john', 'peter']\n",
    "d ={\"john\":40, \"peter\":45}\n",
    "print(list(d.keys()))"
   ]
  },
  {
   "cell_type": "code",
   "execution_count": 57,
   "id": "d1f1b071-92b3-4696-bed2-6012f776cc81",
   "metadata": {},
   "outputs": [
    {
     "name": "stdin",
     "output_type": "stream",
     "text": [
      "Please enter you Name:  Thara\n",
      "Password:  Thara@04\n"
     ]
    },
    {
     "name": "stdout",
     "output_type": "stream",
     "text": [
      "Hi, Thara welcome to our page :)\n"
     ]
    }
   ],
   "source": [
    "#3.A website requires a user to input a username and password to register. Write a program to check the validity of the password given by the user. \n",
    "import re\n",
    "username = input(\"Please enter you Name: \")\n",
    "password = input(\"Password: \")\n",
    "flag = 0\n",
    "while True:\n",
    "    if not (6 <= len(password) <= 12):\n",
    "        flag = -1\n",
    "        break\n",
    "    elif not re.search(\"[a-z]\", password):\n",
    "        flag = -1\n",
    "        break\n",
    "    elif not re.search(\"[A-Z]\", password):\n",
    "        flag = -1\n",
    "        break \n",
    "    elif not re.search(\"[0-9]\", password):\n",
    "        flag = -1\n",
    "        break   \n",
    "    elif not re.search(\"[$#@]\", password):\n",
    "        flag = -1\n",
    "        break   \n",
    "    else:\n",
    "        flag = 0 \n",
    "        print(f\"Hi, {username} welcome to our page :)\")\n",
    "        break\n",
    "if flag== -1:\n",
    "    print(\"Please enter a valid password!\")"
   ]
  },
  {
   "cell_type": "code",
   "execution_count": 16,
   "id": "49e899b4-91aa-4793-968a-ac9037422465",
   "metadata": {},
   "outputs": [
    {
     "name": "stdout",
     "output_type": "stream",
     "text": [
      "Position 0: 4\n",
      "Position 1: 7\n",
      "Position 2: 3\n",
      "Position 3: 2\n",
      "Position 4: 5\n",
      "Position 5: 9\n"
     ]
    }
   ],
   "source": [
    "#4.Write a for loop that prints all elements of a list and their position in the list.a = [4,7,3,2,5,9] Hint: Use Loop to iterate through list elements.\n",
    "a = [4,7,3,2,5,9] \n",
    "for i , item in enumerate(a):\n",
    "     print(f\"Position {i}: {item}\") "
   ]
  },
  {
   "cell_type": "code",
   "execution_count": 18,
   "id": "a4a895c8-32ae-4ae1-b6cb-2f61c913c7ac",
   "metadata": {},
   "outputs": [
    {
     "name": "stdin",
     "output_type": "stream",
     "text": [
      "Enter a word/string:  H1e2l3l4o5w6o7r8l9d\n"
     ]
    },
    {
     "name": "stdout",
     "output_type": "stream",
     "text": [
      "Helloworld\n"
     ]
    }
   ],
   "source": [
    "#5.Please  write  a  program thataccepts  a  string  from the console  and  print  the characters that have even indexes\n",
    "word = (input(\"Enter a word/string: \"))\n",
    "print(word[0::2])"
   ]
  },
  {
   "cell_type": "code",
   "execution_count": 20,
   "id": "6719f398-e474-4cd7-bdb8-be2b725ba6f5",
   "metadata": {},
   "outputs": [
    {
     "name": "stdin",
     "output_type": "stream",
     "text": [
      "Enter a word/string:  rise to vote sir\n"
     ]
    },
    {
     "name": "stdout",
     "output_type": "stream",
     "text": [
      "ris etov ot esir\n"
     ]
    }
   ],
   "source": [
    "#6.Please write a program thataccepts a string from the console and print it in reverse order.\n",
    "word = (input(\"Enter a word/string: \"))\n",
    "print(word[::-1])"
   ]
  },
  {
   "cell_type": "code",
   "execution_count": 24,
   "id": "ad217ae1-eec0-40d2-8ac1-35b0997bc660",
   "metadata": {},
   "outputs": [
    {
     "name": "stdin",
     "output_type": "stream",
     "text": [
      "Enter a word/string:  abcdefgabc\n"
     ]
    },
    {
     "name": "stdout",
     "output_type": "stream",
     "text": [
      "{'a': 2, 'b': 2, 'c': 2, 'd': 1, 'e': 1, 'f': 1, 'g': 1}\n"
     ]
    }
   ],
   "source": [
    "#7.Please write a program that count and prints the numbers of each character in a string input by the console.\n",
    "word = input(\"Enter a word/string: \")\n",
    "occurence = {}\n",
    "for i in word:\n",
    "    occurence.setdefault(i,0)\n",
    "    occurence[i]+=1\n",
    "print(str(occurence))    "
   ]
  },
  {
   "cell_type": "code",
   "execution_count": 26,
   "id": "25adf5c3-bfe6-4ef5-87be-0274a93784a4",
   "metadata": {},
   "outputs": [
    {
     "name": "stdout",
     "output_type": "stream",
     "text": [
      "[35]\n"
     ]
    }
   ],
   "source": [
    "#8.With   two   given   lists   [1,3,6,78,35,55]   and   [12,24,35,24,88,120,155],   write   a program to make a list whose elements are intersection \n",
    "#of the above given lists.\n",
    "list1 = [1,3,6,78,35,55]\n",
    "list2 = [12,24,35,24,88,120,155]\n",
    "list3 = list(set(list1) & set(list2))\n",
    "print(list3)"
   ]
  },
  {
   "cell_type": "code",
   "execution_count": 58,
   "id": "d5f40b7e-2557-441d-a857-31a697667d6f",
   "metadata": {},
   "outputs": [
    {
     "name": "stdout",
     "output_type": "stream",
     "text": [
      "[12, 35, 88, 120, 155]\n"
     ]
    }
   ],
   "source": [
    "#9.By using list comprehension, please write a program to print the list after removing the value 24 in [12,24,35,24,88,120,155].\n",
    "my_list = [12,24,35,24,88,120,155]\n",
    "newlist = [number for number in my_list if number != 24]\n",
    "print(newlist)"
   ]
  },
  {
   "cell_type": "code",
   "execution_count": 128,
   "id": "40615080-9f39-4620-85f7-57c2f5629e5d",
   "metadata": {},
   "outputs": [
    {
     "name": "stdout",
     "output_type": "stream",
     "text": [
      "[12, 24, 35, 70, 88, 120, 155]\n"
     ]
    }
   ],
   "source": [
    "#10.By using list comprehension, please write a program to print the list after removing the 0th,4th,and 5th numbers in [12,24,35,70,88,120,155].\n",
    "mylist =  [12,24,35,70,88,120,155]  \n",
    "newlist = [i for i in mylist if i not in (0,4,5) ]\n",
    "print(newlist)"
   ]
  },
  {
   "cell_type": "code",
   "execution_count": 102,
   "id": "f796527e-80c0-424e-9f4e-189c2c298210",
   "metadata": {},
   "outputs": [
    {
     "name": "stdout",
     "output_type": "stream",
     "text": [
      "[12, 24, 88, 120, 155]\n"
     ]
    }
   ],
   "source": [
    "#11.By using list comprehension, please write a program to print the list after removing deletednumbers tha tare divisible by 5 and 7 in \n",
    "#[12,24,35,70,88,120,155].\n",
    "mylist =  [12,24,35,70,88,120,155]   \n",
    "newlist = [i for i in mylist if not(i%5==0 and i%7==0)]\n",
    "print(newlist)"
   ]
  },
  {
   "cell_type": "code",
   "execution_count": 104,
   "id": "7409a55c-39dc-4e6b-959e-40d33fc7e8ca",
   "metadata": {},
   "outputs": [
    {
     "name": "stdout",
     "output_type": "stream",
     "text": [
      "[12, 24, 88, 120, 155]\n"
     ]
    }
   ],
   "source": [
    "#11.without using list comprehension\n",
    "mylist = [12,24,35,70,88,120,155]\n",
    "newlist = []\n",
    "for i in mylist:\n",
    "    if i%5==0 and i%7==0:\n",
    "        newlist.append(i)\n",
    "for x in newlist:\n",
    "    mylist.remove(x)\n",
    "print(mylist)   "
   ]
  },
  {
   "cell_type": "code",
   "execution_count": 40,
   "id": "14905787-d2d8-4942-8c7d-d365882e6ce1",
   "metadata": {},
   "outputs": [
    {
     "name": "stdin",
     "output_type": "stream",
     "text": [
      "Enter any number to compute:  5\n"
     ]
    },
    {
     "name": "stdout",
     "output_type": "stream",
     "text": [
      "3.55\n"
     ]
    }
   ],
   "source": [
    "#12.Write  a  program  to  compute  1/2+2/3+3/4+...+n/n+1  with  a  given  n  input  by console (n>0).\n",
    "n = int(input(\"Enter any number to compute: \"))\n",
    "num = 0 \n",
    "if n>0:\n",
    "    for i in range(1, n+1):\n",
    "        num+= i/(i+1) \n",
    "    print(round(num,2))   \n",
    "else:\n",
    "    print(\"Please enter a number greater than 0\")"
   ]
  },
  {
   "cell_type": "code",
   "execution_count": null,
   "id": "5058e5f2-9dcd-4ac7-a4c8-dccd7935f492",
   "metadata": {},
   "outputs": [],
   "source": []
  }
 ],
 "metadata": {
  "kernelspec": {
   "display_name": "Python 3 (ipykernel)",
   "language": "python",
   "name": "python3"
  },
  "language_info": {
   "codemirror_mode": {
    "name": "ipython",
    "version": 3
   },
   "file_extension": ".py",
   "mimetype": "text/x-python",
   "name": "python",
   "nbconvert_exporter": "python",
   "pygments_lexer": "ipython3",
   "version": "3.12.7"
  }
 },
 "nbformat": 4,
 "nbformat_minor": 5
}
